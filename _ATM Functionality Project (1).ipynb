{
 "cells": [
  {
   "cell_type": "code",
   "execution_count": 10,
   "id": "0fb7bfc6",
   "metadata": {},
   "outputs": [],
   "source": [
    "import getpass\n",
    "class ATM:\n",
    "    def __init__(self):\n",
    "        self.pin=[\"6490\",\"6526\",\"4447\",\"6562\"]\n",
    "        self.balance=10000\n",
    "    def authentication(self):\n",
    "        pin_entered=getpass.getpass(\"Enter your pin: \")\n",
    "        if pin_entered in self.pin:\n",
    "            return True\n",
    "        else:\n",
    "            return False\n",
    "    def show_services(self):\n",
    "        print(\"1.check_balance\")\n",
    "        print(\"2.withdraw_cash\")\n",
    "        print(\"3.deposit_cash\")\n",
    "        print(\"4.exit\")\n",
    "    def check_balance(self):\n",
    "        print(f\"your current balance is {self.balance}\")\n",
    "    def withdraw_cash(self):\n",
    "        amount=float(input(\"Enter the amount you want to withdraw\"))\n",
    "        if self.balance>=amount:\n",
    "            self.balance-=amount\n",
    "            print(f\"withdraw {amount} successfully.now your current balance is {self.balance}\")\n",
    "        else:\n",
    "            print(\"your amount exceed the limit.failed\")\n",
    "    def deposit_cash(self):\n",
    "        amount=float(input(\"Enter the amount you want to deposit\"))\n",
    "        self.balance+=amount\n",
    "        print(f\"you deposit the amount  {amount} now your current balance is {self.balance}\")\n",
    "    def select_option(self,choice):\n",
    "        if choice==\"1\":\n",
    "            self.check_balance()\n",
    "        elif choice==\"2\":\n",
    "            self.withdraw_cash()\n",
    "        elif choice==\"3\":\n",
    "            self.deposit_cash()\n",
    "        elif choice==\"4\":\n",
    "            print(\"Thanks\")\n",
    "        else:\n",
    "            print(\"invalid choice\")\n",
    "    def run(self):\n",
    "        if self.authentication():\n",
    "            self.show_services()\n",
    "            choice=input(\"enter your choice\")\n",
    "            self.select_option(choice)\n",
    "        else:(\"failed\")\n",
    "#atm=ATM()\n",
    "#atm.run()\n",
    "        \n",
    "            "
   ]
  },
  {
   "cell_type": "code",
   "execution_count": null,
   "id": "1976e84c",
   "metadata": {},
   "outputs": [
    {
     "name": "stdout",
     "output_type": "stream",
     "text": [
      "Enter your pin: ········\n",
      "1.check_balance\n",
      "2.withdraw_cash\n",
      "3.deposit_cash\n",
      "4.exit\n"
     ]
    }
   ],
   "source": [
    "atm=ATM()\n",
    "atm.run()"
   ]
  },
  {
   "cell_type": "code",
   "execution_count": null,
   "id": "db60484c",
   "metadata": {},
   "outputs": [],
   "source": []
  }
 ],
 "metadata": {
  "kernelspec": {
   "display_name": "Python 3",
   "language": "python",
   "name": "python3"
  },
  "language_info": {
   "codemirror_mode": {
    "name": "ipython",
    "version": 3
   },
   "file_extension": ".py",
   "mimetype": "text/x-python",
   "name": "python",
   "nbconvert_exporter": "python",
   "pygments_lexer": "ipython3",
   "version": "3.8.8"
  }
 },
 "nbformat": 4,
 "nbformat_minor": 5
}
